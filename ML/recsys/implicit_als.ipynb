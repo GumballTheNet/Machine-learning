{
 "cells": [
  {
   "cell_type": "code",
   "execution_count": 1,
   "metadata": {},
   "outputs": [],
   "source": [
    "import numpy as np\n",
    "import scipy.sparse as sp\n",
    "import random\n",
    "from tqdm import tqdm"
   ]
  },
  {
   "cell_type": "code",
   "execution_count": 2,
   "metadata": {},
   "outputs": [],
   "source": [
    "fio = open(\"train.txt\", 'r')\n",
    "rows = []\n",
    "cols = []\n",
    "data = []\n",
    "for l in fio.readlines():\n",
    "    args = l.split('\\t')\n",
    "    args = [x for x in args if len(x) > 0]\n",
    "    i = int(args[0])-1\n",
    "    j = int(args[1])-1\n",
    "    p = float(args[2])\n",
    "    rows.append(i)\n",
    "    cols.append(j)\n",
    "    data.append(p)\n",
    "fio.close()\n",
    "R_train = sp.csr_matrix((data, (rows, cols))).toarray()\n"
   ]
  },
  {
   "cell_type": "code",
   "execution_count": 3,
   "metadata": {},
   "outputs": [],
   "source": [
    "\n",
    "class IALS:\n",
    "   \n",
    "    @staticmethod\n",
    "    def __log_confidence(R,  alpha, eps):\n",
    "        return (np.ones(R.shape) + alpha * np.log(np.ones(R.shape) + R_train / eps))\n",
    "    \n",
    "    def __bias_normalisation(self,  R):\n",
    "        gr_mask = R > 0\n",
    "        eq_mask = R == 0\n",
    "        mean = R[gr_mask].mean()\n",
    "        R_unbiased = R * gr_mask - gr_mask * mean\n",
    "        user_bias = (R_unbiased.sum(1) / gr_mask.sum(1)).reshape(-1, 1)\n",
    "        R_unuserbiased = R_unbiased * gr_mask - gr_mask * user_bias\n",
    "        gr_mask_sum_0 = gr_mask.sum(0) + 0.0000001\n",
    "        item_bias = (R_unuserbiased.sum(0) / gr_mask_sum_0).reshape(1, -1)\n",
    "        \n",
    "        P = R + eq_mask * (user_bias + item_bias + mean) \n",
    "\n",
    "\n",
    "        return P\n",
    "\n",
    "\n",
    "\n",
    "    def __init__(self, max_epoch=100, embedding_size=6, alpha=0.1, l2reg=1,  eps=0.1,\n",
    "                random_state=42):\n",
    "\n",
    "        self.max_epoch = max_epoch\n",
    "        self.embedding_size = embedding_size\n",
    "        self.alpha = alpha\n",
    "        self.l2reg = l2reg\n",
    "        self.random_state = random_state\n",
    "        self.eps = eps\n",
    "       \n",
    "        np.random.seed(self.random_state)\n",
    "\n",
    "\n",
    "    def fit(self, R_train):\n",
    "      \n",
    "\n",
    "        C = IALS.__log_confidence(R_train,  self.alpha, self.eps)\n",
    "\n",
    "        P = self.__bias_normalisation(R_train)\n",
    "        Cm1 = C - 1\n",
    "\n",
    "        lambdaI = np.eye(self.embedding_size + 1, self.embedding_size + 1) * self.l2reg  \n",
    "        X = np.hstack([np.ones((R_train.shape[0], 1)), np.random.random_sample((R_train.shape[0], self.embedding_size))])\n",
    "\n",
    "        Y = np.hstack([np.ones((R_train.shape[1], 1)), np.random.random_sample((R_train.shape[1], self.embedding_size))])\n",
    "\n",
    "        beta = np.zeros((P.shape[0], 1)).reshape(-1,1) \n",
    "        gamma = np.zeros((P.shape[1], 1)).reshape(1,-1)  \n",
    "\n",
    "\n",
    "        n_user = (R_train > 0).sum(1)\n",
    "        n_item = (R_train > 0).sum(0)\n",
    "\n",
    "        for epoch in range(self.max_epoch):\n",
    "\n",
    "            YtY = np.matmul(Y.T, Y)\n",
    "            d = C *  (P - gamma)\n",
    "            X[:,0] = beta.squeeze()\n",
    "\n",
    "            for i in range(X.shape[0]):  \n",
    "                X[i, :] = np.matmul( np.matmul(np.linalg.inv(YtY + lambdaI * n_user[i] + np.matmul(Y.T * Cm1[i, :], Y)),\\\n",
    "                                               Y.T), d[i, :].reshape(-1, 1)).ravel()\n",
    "            beta = X[:, 0].copy().reshape(-1,1)\n",
    "            X[:, 0] = 1\n",
    "            XtX = np.matmul(X.T, X)\n",
    "            d = C * (P - beta)\n",
    "            Y[:,0] = gamma.squeeze()\n",
    "\n",
    "            for j in range(Y.shape[0]):  \n",
    "                Y[j, :] = np.matmul(np.matmul(np.linalg.inv(XtX + lambdaI * n_item[j]  + np.matmul(X.T * Cm1[:, j], X)),\\\n",
    "                                              X.T), d[:, j].reshape(-1, 1)).ravel()\n",
    "            gamma = Y[:, 0].copy().reshape(1, -1)\n",
    "            Y[:, 0] = 1\n",
    "\n",
    "        result = np.matmul(X[:, 1:], Y[:, 1:].T) + beta + gamma \n",
    "        result = result.copy()\n",
    "        result[result > 5] = 5\n",
    "        result[result < 1] = 1\n",
    "        self.result = result\n",
    "\n",
    "    \n",
    "    def predict(self):\n",
    "        return self.result"
   ]
  },
  {
   "cell_type": "code",
   "execution_count": 4,
   "metadata": {},
   "outputs": [],
   "source": [
    "def train_test_split(R, test_ratio=0.1):\n",
    " \n",
    "    data_size = R.shape[0] * R.shape[1]\n",
    "    nonzero_items = np.arange(data_size)[R.ravel() > 0]\n",
    "    nonzero_size = nonzero_items.shape[0]\n",
    "    test_size = int(test_ratio * nonzero_size)\n",
    "    np.random.shuffle(nonzero_items)\n",
    "    train_items = nonzero_items[test_size:]\n",
    "    test_items = nonzero_items[:test_size]\n",
    "    train_indices = np.unravel_index(train_items, R.shape)\n",
    "    test_indices = np.unravel_index(test_items, R.shape)\n",
    "    train_mask = np.zeros(R.shape)\n",
    "    for i in range(train_indices[0].shape[0]):\n",
    "        train_mask[train_indices[0][i], train_indices[1][i]] = True\n",
    "    test_mask = np.zeros(R.shape)\n",
    "    for i in range(test_indices[0].shape[0]):\n",
    "        test_mask[test_indices[0][i], test_indices[1][i]] = True\n",
    "    return R * train_mask, R * test_mask"
   ]
  },
  {
   "cell_type": "code",
   "execution_count": 5,
   "metadata": {},
   "outputs": [],
   "source": [
    "X_tr, X_val = train_test_split(R_train)"
   ]
  },
  {
   "cell_type": "code",
   "execution_count": 6,
   "metadata": {},
   "outputs": [],
   "source": [
    "best_mse = np.inf\n",
    "for alpha in np.arange(10, 50, 5):\n",
    "    for l2reg in np.arange(1,12,1):\n",
    "           for eps in np.arange(0.01, 0.15, 0.01):\n",
    "                ials1 = IALS(max_epoch=50,\n",
    "                embedding_size=4,\n",
    "                alpha=alpha,\n",
    "                l2reg=l2reg,\n",
    "                eps=eps) \n",
    "                res = ials1.fit(X_tr)\n",
    "                cur_mse = mean_squared_error(res[np.where(X_val != 0)], X_val[np.where(X_val != 0)])\n",
    "                if cur_mse < best_mse:                  \n",
    "                    best_alpha = alpha\n",
    "                    best_l2reg = l2reg\n",
    "                    best_eps = eps\n",
    "                    best_mse = cur_mse"
   ]
  },
  {
   "cell_type": "code",
   "execution_count": 7,
   "metadata": {},
   "outputs": [
    {
     "name": "stdout",
     "output_type": "stream",
     "text": [
      "35\n",
      "10\n",
      "0.05\n"
     ]
    }
   ],
   "source": [
    "\n",
    "print(best_alpha)\n",
    "print(best_l2reg)\n",
    "print(best_eps)"
   ]
  },
  {
   "cell_type": "code",
   "execution_count": 8,
   "metadata": {},
   "outputs": [],
   "source": [
    "best_mse = np.inf\n",
    "for alpha in np.arange(10, 50, 5):\n",
    "    for l2reg in np.arange(1,12,1):\n",
    "           for eps in np.arange(0.01, 0.15, 0.01):\n",
    "                ials1 = IALS(max_epoch=35,\n",
    "                embedding_size=15,\n",
    "                alpha=alpha,\n",
    "                l2reg=l2reg,\n",
    "                eps=eps) \n",
    "                res = ials1.fit(X_tr)\n",
    "                cur_mse = mean_squared_error(res[np.where(X_val != 0)], X_val[np.where(X_val != 0)])\n",
    "                if cur_mse < best_mse:\n",
    "            \n",
    "                    best_alpha = alpha\n",
    "                    best_l2reg = l2reg\n",
    "                    best_eps = eps\n",
    "                    best_mse = cur_mse"
   ]
  },
  {
   "cell_type": "code",
   "execution_count": 9,
   "metadata": {},
   "outputs": [
    {
     "name": "stdout",
     "output_type": "stream",
     "text": [
      "35\n",
      "20\n",
      "0.1\n"
     ]
    }
   ],
   "source": [
    "print(best_alpha)\n",
    "print(best_l2reg)\n",
    "print(best_eps)"
   ]
  },
  {
   "cell_type": "code",
   "execution_count": 10,
   "metadata": {},
   "outputs": [],
   "source": [
    "best_mse = np.inf\n",
    "for alpha in np.arange(10, 50, 5):\n",
    "    for l2reg in np.arange(1,12,1):\n",
    "           for eps in np.arange(0.01, 0.15, 0.01):\n",
    "                ials1 = IALS(max_epoch=35,\n",
    "                embedding_size=6,\n",
    "                alpha=alpha,\n",
    "                l2reg=l2reg,\n",
    "                eps=eps) \n",
    "                res = ials1.fit(X_tr)\n",
    "                cur_mse = mean_squared_error(res[np.where(X_val != 0)], X_val[np.where(X_val != 0)])\n",
    "                if cur_mse < best_mse:\n",
    "                    best_alpha = alpha\n",
    "                    best_l2reg = l2reg\n",
    "                    best_eps = eps\n",
    "                    best_mse = cur_mse"
   ]
  },
  {
   "cell_type": "code",
   "execution_count": 11,
   "metadata": {},
   "outputs": [
    {
     "name": "stdout",
     "output_type": "stream",
     "text": [
      "35\n",
      "10\n",
      "0.1\n"
     ]
    }
   ],
   "source": [
    "print(best_alpha)\n",
    "print(best_l2reg)\n",
    "print(best_eps)"
   ]
  },
  {
   "cell_type": "code",
   "execution_count": 12,
   "metadata": {},
   "outputs": [],
   "source": [
    "first = IALS(max_epoch=35,\n",
    "            embedding_size=6,\n",
    "            alpha=35,\n",
    "            l2reg=10,\n",
    "            eps=0.1)\n",
    "\n",
    "second = IALS(max_epoch=35,\n",
    "            embedding_size=15,\n",
    "            alpha=35,\n",
    "            l2reg=10,\n",
    "            eps=0.1)\n",
    "\n",
    "third = IALS(max_epoch=50,\n",
    "            embedding_size=4,\n",
    "            alpha=35,\n",
    "            l2reg=10,\n",
    "            eps=0.05)\n",
    "\n",
    "\n",
    "first.fit(R_train)\n",
    "second.fit(R_train)\n",
    "third.fit(R_train)\n",
    "\n",
    "first_res = first.predict()\n",
    "second_res = second.predict()\n",
    "third_res = third.predict()\n",
    "\n",
    "res = (first_res + second_res + third_res ) / 3\n",
    "submission_name = (\"submission_{}.txt\".format(7))\n",
    "with open(\"test.txt\", 'r') as file_in:\n",
    "    with open(submission_name, 'w') as file_out:\n",
    "        file_out.write(\"Id,Score\\n\")\n",
    "        for id, line in enumerate(file_in):\n",
    "            ui = [int(a) for a in line.strip().split('\\t')]\n",
    "            file_out.write(\"{},{}\\n\".format(id + 1, res[ui[0] - 1, ui[1] - 1]))"
   ]
  }
 ],
 "metadata": {
  "kernelspec": {
   "display_name": "Python 3",
   "language": "python",
   "name": "python3"
  },
  "language_info": {
   "codemirror_mode": {
    "name": "ipython",
    "version": 3
   },
   "file_extension": ".py",
   "mimetype": "text/x-python",
   "name": "python",
   "nbconvert_exporter": "python",
   "pygments_lexer": "ipython3",
   "version": "3.8.3"
  }
 },
 "nbformat": 4,
 "nbformat_minor": 4
}
