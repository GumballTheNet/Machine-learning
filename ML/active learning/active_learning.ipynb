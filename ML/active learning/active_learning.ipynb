{
 "cells": [
  {
   "cell_type": "code",
   "execution_count": 1,
   "metadata": {
    "id": "ci0FdEACsHvb"
   },
   "outputs": [],
   "source": [
    "import numpy as np\n",
    "import pandas as pd\n"
   ]
  },
  {
   "cell_type": "code",
   "execution_count": 2,
   "metadata": {
    "id": "E2Z5hnXr-_1D"
   },
   "outputs": [],
   "source": [
    "from tqdm import notebook\n",
    "\n",
    "def ts_oracle(point_coords, points_path):\n",
    "    url = 'http://185.86.144.208/oracle?x1={:f}&x2={:f}&x3={:f}&x4={:f}&x5={:f}&x6={:f}&x7={:f}&x8={:f}&x9={:f}&x10={:f}'.format(*point_coords)\n",
    "    \n",
    "    with urlopen(url) as response, open(points_path, 'ab') as out_file:\n",
    "        data = response.read().decode('utf-8')\n",
    "        parsed_data = re.split(r'^Function value = |\\nAttempts left = ', data)\n",
    "        if (data != 'UNDIFINED'):\n",
    "            result, attempts = [np.float(number)\n",
    "                                for number in parsed_data if number]\n",
    "        else:\n",
    "            result = np.inf\n",
    "        cur = np.append(point_coords, result)[np.newaxis, :]\n",
    "        np.savetxt(out_file, cur)\n",
    "    return result"
   ]
  },
  {
   "cell_type": "code",
   "execution_count": 3,
   "metadata": {
    "id": "4lD_8mE4nl3J"
   },
   "outputs": [],
   "source": [
    "oracle=ts_oracle"
   ]
  },
  {
   "cell_type": "code",
   "execution_count": 4,
   "metadata": {
    "colab": {
     "base_uri": "https://localhost:8080/"
    },
    "id": "jTxDZay9_EQa",
    "outputId": "bc376c6a-e6c8-4250-d764-2e125d138ced"
   },
   "outputs": [],
   "source": [
    "import tqdm\n",
    "import os\n",
    "import requests\n",
    "import re\n",
    "from urllib.request import urlopen\n",
    "path = '.'\n",
    "max_attempts = 5\n",
    "comm_size = 10\n",
    "start_size = 50\n",
    "iterations = 300\n",
    "sample_size = 1000000\n",
    "\n",
    "eps = 0.1\n",
    "\n",
    "\n",
    "x = np.zeros((start_size + iterations, 10))\n",
    "x[:start_size] = np.random.uniform(low=0, high=10, size=(start_size, 10))\n",
    "y = np.zeros(start_size + iterations)\n",
    "    \n",
    "assert(x.shape[0] == start_size + iterations)\n",
    "\n",
    "for i in tqdm.tqdm(range(start_size)):\n",
    "    y[i] = oracle(x[i], path)\n",
    "\n",
    "for it in tqdm.tqdm(range(iterations)):\n",
    "    p = np.random.rand(1)[0]\n",
    "    if p < eps:\n",
    "        for i in range(max_attempts):\n",
    "            new_point = np.random.uniform(low=0, high=10, size=10)\n",
    "            new_label = oracle(new_point, path)\n",
    "            if new_label == np.inf:\n",
    "                print('indef')\n",
    "            else:\n",
    "                break\n",
    "    else:\n",
    "        comm = [DecisionTreeRegressor() for i in range(comm_size)]\n",
    "        kf = KFold(n_splits=comm_size, shuffle=True)\n",
    "        k = 0\n",
    "        cur_x = x[:start_size + it]\n",
    "        cur_y = y[:start_size + it]\n",
    "        for tr_idx, tt_idx in kf.split(cur_x):\n",
    "            comm[k] = comm[k].fit(cur_x[tr_idx], cur_y[tr_idx])\n",
    "            k += 1\n",
    "        for i in range(max_attempts):\n",
    "            X_rand = np.random.uniform(low=0, high=10, size=(sample_size, 10))\n",
    "            pred = []\n",
    "            for i in range(comm_size):\n",
    "                pred.append(comm[i].predict(X_rand))\n",
    "            new_point = X_rand[np.argmax(np.var(np.array(pred), axis=0))]\n",
    "            new_label = oracle(new_point, path)\n",
    "            \n",
    "            \n",
    "            if new_label == np.inf:\n",
    "                print('undef')\n",
    "            else:\n",
    "                break\n",
    "    \n",
    "    x[it + start_size] = new_point\n",
    "    y[it + start_size] = new_label "
   ]
  },
  {
   "cell_type": "code",
   "execution_count": 5,
   "metadata": {},
   "outputs": [],
   "source": [
    "path = 'mined_points'\n",
    "df = pd.read_csv(path, header=None, sep=' ')\n",
    "x, y = df.values[:, :-1], df.values[:, -1]"
   ]
  },
  {
   "cell_type": "code",
   "execution_count": 6,
   "metadata": {
    "id": "lD09EZxV_xk5"
   },
   "outputs": [],
   "source": [
    "from sklearn.datasets import load_svmlight_file\n",
    "test_path = 'points'\n",
    "X_test, y_test = load_svmlight_file(test_path, multilabel=True)"
   ]
  },
  {
   "cell_type": "code",
   "execution_count": 7,
   "metadata": {},
   "outputs": [],
   "source": [
    "X_test = X_test.toarray()"
   ]
  },
  {
   "cell_type": "code",
   "execution_count": 8,
   "metadata": {},
   "outputs": [],
   "source": [
    "from sklearn.tree import DecisionTreeRegressor"
   ]
  },
  {
   "cell_type": "code",
   "execution_count": 9,
   "metadata": {
    "id": "gn5KqoHqAZoq"
   },
   "outputs": [],
   "source": [
    "model = DecisionTreeRegressor(random_state = 1337)\n",
    "model.fit(x, y)\n",
    "pred = model.predict(X_test)\n",
    "\n",
    "count = pred.shape[0]\n",
    "res = pd.DataFrame({'Id': [], 'Expected': []})\n",
    "res['Id'] = np.arange(1, count + 1)\n",
    "res['Expected'] = pred\n",
    "res.to_csv('ans.csv', index=False)"
   ]
  }
 ],
 "metadata": {
  "colab": {
   "collapsed_sections": [],
   "name": "V_AL",
   "provenance": []
  },
  "kernelspec": {
   "display_name": "Python 3",
   "language": "python",
   "name": "python3"
  },
  "language_info": {
   "codemirror_mode": {
    "name": "ipython",
    "version": 3
   },
   "file_extension": ".py",
   "mimetype": "text/x-python",
   "name": "python",
   "nbconvert_exporter": "python",
   "pygments_lexer": "ipython3",
   "version": "3.8.3"
  }
 },
 "nbformat": 4,
 "nbformat_minor": 1
}
